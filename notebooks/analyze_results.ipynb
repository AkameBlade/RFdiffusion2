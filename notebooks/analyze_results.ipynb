{
 "cells": [
  {
   "cell_type": "markdown",
   "id": "d472e03a-104a-4bf7-b7c8-9148d73dec40",
   "metadata": {
    "tags": []
   },
   "source": [
    "This notebook demonstates loading the results of a inference run and selecting the best designs based on the computed metrics."
   ]
  },
  {
   "cell_type": "code",
   "execution_count": null,
   "id": "d78d5eb2-44f2-4cce-9565-679c6d299ff8",
   "metadata": {
    "tags": []
   },
   "outputs": [],
   "source": [
    "%load_ext autoreload\n",
    "%autoreload 2\n",
    "\n",
    "from rf_diffusion.dev import benchmark as bm"
   ]
  },
  {
   "cell_type": "code",
   "execution_count": null,
   "id": "1ea0be9d",
   "metadata": {},
   "outputs": [],
   "source": [
    "# Insert paths to compilted metrics. Each (key, value) pair can be a different run.\n",
    "metric_paths = {\n",
    "    'designs': '<path to compiled metrics>'\n",
    "}"
   ]
  },
  {
   "cell_type": "code",
   "execution_count": null,
   "id": "bb92e833",
   "metadata": {},
   "outputs": [],
   "source": [
    "# Run results analysis\n",
    "chai_melt, best = bm.default_metrics_melts(metric_paths)"
   ]
  },
  {
   "cell_type": "code",
   "execution_count": null,
   "id": "345af6fa",
   "metadata": {},
   "outputs": [],
   "source": [
    " # Find any that pass the motif RMSD < 1.5 critera and has no clashes.\n",
    "passing = best[best['filter'] == 'chai_motif_pass_and_no_clash']\n",
    "\n",
    "# Combine the dataframes to show the design paths\n",
    "reset_chai_results = chai_melt.reset_index()[\n",
    "    ['seq_id', 'trb_path', 'pdb_path']\n",
    "].drop_duplicates()\n",
    "merged_df = passing.merge(\n",
    "    reset_chai_results,\n",
    "    on=['seq_id']\n",
    ")\n",
    "\n",
    "# Show only one passing structure per design\n",
    "single_passing_designs = merged_df.groupby('design_id').head(1)\n",
    "single_passing_designs['design_path'] = single_passing_designs['trb_path'].apply(lambda x: x.replace('trb', 'pdb'))\n",
    "single_passing_designs['chai_path'] = single_passing_designs['pdb_path']\n",
    "cols_to_show = [\n",
    "    'design_id',\n",
    "    'seq_id',\n",
    "    'chai_model_idx',\n",
    "    'mpnn_index',\n",
    "    'design_path',  # Path to the design out of RFD2.\n",
    "    'chai_path',  # Path to the chai prediction.\n",
    "]\n",
    "single_passing_designs[cols_to_show]"
   ]
  },
  {
   "cell_type": "code",
   "execution_count": null,
   "id": "db5435d6-e1e0-4203-8fdd-cdb05b5bf9b3",
   "metadata": {},
   "outputs": [],
   "source": []
  }
 ],
 "metadata": {
  "kernelspec": {
   "display_name": "baker_rf_diffusion_aa_whs_sym",
   "language": "python",
   "name": "baker_rf_diffusion_aa_whs_sym"
  },
  "language_info": {
   "codemirror_mode": {
    "name": "ipython",
    "version": 3
   },
   "file_extension": ".py",
   "mimetype": "text/x-python",
   "name": "python",
   "nbconvert_exporter": "python",
   "pygments_lexer": "ipython3",
   "version": "3.11.0"
  }
 },
 "nbformat": 4,
 "nbformat_minor": 5
}
